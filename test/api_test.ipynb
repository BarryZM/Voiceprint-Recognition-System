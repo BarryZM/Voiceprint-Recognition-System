{
 "cells": [
  {
   "cell_type": "code",
   "execution_count": 7,
   "metadata": {},
   "outputs": [
    {
     "name": "stdout",
     "output_type": "stream",
     "text": [
      "{'phone': '18897479115', 'province': '湖南', 'city': '怀化', 'zip_code': '418000', 'area_code': '0745', 'phone_type': '移动'}\n"
     ]
    }
   ],
   "source": [
    "from phone import Phone\n",
    "\n",
    "phoneNum = '18897479115'\n",
    "info = Phone().find(phoneNum)\n",
    "print(info)\n",
    "try:\n",
    "    phone = info['phone']\n",
    "    province = info['province']\n",
    "    city = info['city']\n",
    "    zip_code = info['zip_code']\n",
    "    area_code = info['area_code']\n",
    "    phone_type = info['phone_type']\n",
    "except:\n",
    "    print('none')"
   ]
  },
  {
   "cell_type": "code",
   "execution_count": null,
   "metadata": {},
   "outputs": [],
   "source": []
  }
 ],
 "metadata": {
  "interpreter": {
   "hash": "210e9a70b308f96b33d81a6d5dd247ddc360a8cebff85ef5f248aad1d995feab"
  },
  "kernelspec": {
   "display_name": "Python 3.8.8 ('base')",
   "language": "python",
   "name": "python3"
  },
  "language_info": {
   "codemirror_mode": {
    "name": "ipython",
    "version": 3
   },
   "file_extension": ".py",
   "mimetype": "text/x-python",
   "name": "python",
   "nbconvert_exporter": "python",
   "pygments_lexer": "ipython3",
   "version": "3.8.8"
  },
  "orig_nbformat": 4
 },
 "nbformat": 4,
 "nbformat_minor": 2
}
